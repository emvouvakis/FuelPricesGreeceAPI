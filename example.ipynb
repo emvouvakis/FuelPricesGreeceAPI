{
 "cells": [
  {
   "cell_type": "code",
   "execution_count": null,
   "metadata": {},
   "outputs": [
    {
     "name": "stdout",
     "output_type": "stream",
     "text": [
      "No more data available. Breaking the loop.\n",
      "Total number of requests sent: 15\n"
     ]
    }
   ],
   "source": [
    "import requests\n",
    "import pandas as pd\n",
    "\n",
    "result = []\n",
    "offset = 0\n",
    "limit = 10000\n",
    "request_count = 0  # Initialize a counter for the number of requests\n",
    "\n",
    "while True:\n",
    "    url = \"https://5fcbs3i0z4.execute-api.eu-west-3.amazonaws.com/v2/data\"\n",
    "    params = {\n",
    "        # \"start_date\": \"2023-01-01\",     # Optional parameter\n",
    "        # \"end_date\": \"2024-12-15\",       # Optional parameter\n",
    "        # 'REGION': 'N. ATHINON',         # Optional parameter\n",
    "        \"limit\": limit,                 # Default is 10000\n",
    "        \"offset\": offset                # Mandatory parameter to be incremented\n",
    "    }\n",
    "    headers = {\n",
    "        \"x-api-key\": \"VH5AaWqgBchJw3a8yOkq5i5nVJ0hNMl5mwzkPMm1\"\n",
    "    }\n",
    "\n",
    "    response = requests.get(url, params=params, headers=headers)\n",
    "    request_count += 1  # Increment the request counter\n",
    "    data = response.json()\n",
    "    \n",
    "    if response.status_code != 200:\n",
    "        print(f\"Error: {response.status_code}. Breaking the loop.\")\n",
    "        break\n",
    "\n",
    "    if not data:\n",
    "        print(\"No more data available. Breaking the loop.\")\n",
    "        break\n",
    "    \n",
    "    result.append(pd.DataFrame(data))\n",
    "    offset += limit  # Increment the offset for the next request\n",
    "\n",
    "print(f\"Total number of requests sent: {request_count}\")"
   ]
  },
  {
   "cell_type": "code",
   "execution_count": 2,
   "metadata": {},
   "outputs": [
    {
     "data": {
      "text/html": [
       "<div>\n",
       "<style scoped>\n",
       "    .dataframe tbody tr th:only-of-type {\n",
       "        vertical-align: middle;\n",
       "    }\n",
       "\n",
       "    .dataframe tbody tr th {\n",
       "        vertical-align: top;\n",
       "    }\n",
       "\n",
       "    .dataframe thead th {\n",
       "        text-align: right;\n",
       "    }\n",
       "</style>\n",
       "<table border=\"1\" class=\"dataframe\">\n",
       "  <thead>\n",
       "    <tr style=\"text-align: right;\">\n",
       "      <th></th>\n",
       "      <th>AUTOGAS</th>\n",
       "      <th>AUTOMOTIVE_DIESEL</th>\n",
       "      <th>DATE</th>\n",
       "      <th>HOME_HEATING_DIESEL</th>\n",
       "      <th>REGION</th>\n",
       "      <th>Super</th>\n",
       "      <th>UNLEADED_100_OCTANE</th>\n",
       "      <th>UNLEADED_95_Octane</th>\n",
       "    </tr>\n",
       "  </thead>\n",
       "  <tbody>\n",
       "    <tr>\n",
       "      <th>0</th>\n",
       "      <td>0.803</td>\n",
       "      <td>1.285</td>\n",
       "      <td>2018-01-01</td>\n",
       "      <td>0.984</td>\n",
       "      <td>N. ATHINON</td>\n",
       "      <td>1.630</td>\n",
       "      <td>1.724</td>\n",
       "      <td>1.511</td>\n",
       "    </tr>\n",
       "    <tr>\n",
       "      <th>1</th>\n",
       "      <td>0.874</td>\n",
       "      <td>1.323</td>\n",
       "      <td>2018-01-01</td>\n",
       "      <td>1.029</td>\n",
       "      <td>N. ETOLOAKARNANIAS</td>\n",
       "      <td>1.689</td>\n",
       "      <td>1.754</td>\n",
       "      <td>1.556</td>\n",
       "    </tr>\n",
       "    <tr>\n",
       "      <th>2</th>\n",
       "      <td>0.845</td>\n",
       "      <td>1.292</td>\n",
       "      <td>2018-01-01</td>\n",
       "      <td>1.000</td>\n",
       "      <td>N. ARGOLIDAS</td>\n",
       "      <td>1.540</td>\n",
       "      <td>1.700</td>\n",
       "      <td>1.528</td>\n",
       "    </tr>\n",
       "    <tr>\n",
       "      <th>3</th>\n",
       "      <td>0.846</td>\n",
       "      <td>1.330</td>\n",
       "      <td>2018-01-01</td>\n",
       "      <td>1.002</td>\n",
       "      <td>N. ARKADIAS</td>\n",
       "      <td>0.000</td>\n",
       "      <td>1.748</td>\n",
       "      <td>1.559</td>\n",
       "    </tr>\n",
       "    <tr>\n",
       "      <th>4</th>\n",
       "      <td>0.868</td>\n",
       "      <td>1.316</td>\n",
       "      <td>2018-01-01</td>\n",
       "      <td>1.016</td>\n",
       "      <td>N. ARTAS</td>\n",
       "      <td>NaN</td>\n",
       "      <td>1.725</td>\n",
       "      <td>1.529</td>\n",
       "    </tr>\n",
       "  </tbody>\n",
       "</table>\n",
       "</div>"
      ],
      "text/plain": [
       "   AUTOGAS  AUTOMOTIVE_DIESEL       DATE  HOME_HEATING_DIESEL  \\\n",
       "0    0.803              1.285 2018-01-01                0.984   \n",
       "1    0.874              1.323 2018-01-01                1.029   \n",
       "2    0.845              1.292 2018-01-01                1.000   \n",
       "3    0.846              1.330 2018-01-01                1.002   \n",
       "4    0.868              1.316 2018-01-01                1.016   \n",
       "\n",
       "               REGION  Super  UNLEADED_100_OCTANE  UNLEADED_95_Octane  \n",
       "0          N. ATHINON  1.630                1.724               1.511  \n",
       "1  N. ETOLOAKARNANIAS  1.689                1.754               1.556  \n",
       "2        N. ARGOLIDAS  1.540                1.700               1.528  \n",
       "3         N. ARKADIAS  0.000                1.748               1.559  \n",
       "4            N. ARTAS    NaN                1.725               1.529  "
      ]
     },
     "execution_count": 2,
     "metadata": {},
     "output_type": "execute_result"
    }
   ],
   "source": [
    "# Generate one concatenated DataFrame from result list\n",
    "df = pd.concat(result, ignore_index=True)\n",
    "df['DATE'] = pd.to_datetime(df[\"DATE\"], format=\"%Y-%m-%d\")\n",
    "# df.to_parquet('data.parquet')\n",
    "df.head()"
   ]
  },
  {
   "cell_type": "code",
   "execution_count": 3,
   "metadata": {},
   "outputs": [
    {
     "data": {
      "text/plain": [
       "(Timestamp('2017-03-14 00:00:00'), Timestamp('2024-12-23 00:00:00'))"
      ]
     },
     "execution_count": 3,
     "metadata": {},
     "output_type": "execute_result"
    }
   ],
   "source": [
    "df['DATE'].unique().min(), df['DATE'].unique().max()"
   ]
  },
  {
   "cell_type": "code",
   "execution_count": null,
   "metadata": {},
   "outputs": [],
   "source": []
  }
 ],
 "metadata": {
  "kernelspec": {
   "display_name": "base",
   "language": "python",
   "name": "python3"
  },
  "language_info": {
   "codemirror_mode": {
    "name": "ipython",
    "version": 3
   },
   "file_extension": ".py",
   "mimetype": "text/x-python",
   "name": "python",
   "nbconvert_exporter": "python",
   "pygments_lexer": "ipython3",
   "version": "3.12.2"
  }
 },
 "nbformat": 4,
 "nbformat_minor": 2
}
